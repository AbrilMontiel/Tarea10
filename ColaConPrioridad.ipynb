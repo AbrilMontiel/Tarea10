{
  "nbformat": 4,
  "nbformat_minor": 0,
  "metadata": {
    "colab": {
      "name": "ColaConPrioridad.ipynb",
      "provenance": [],
      "authorship_tag": "ABX9TyOPFpFeCuY3IMxEEC9x3c8C",
      "include_colab_link": true
    },
    "kernelspec": {
      "name": "python3",
      "display_name": "Python 3"
    },
    "language_info": {
      "name": "python"
    }
  },
  "cells": [
    {
      "cell_type": "markdown",
      "metadata": {
        "id": "view-in-github",
        "colab_type": "text"
      },
      "source": [
        "<a href=\"https://colab.research.google.com/github/AbrilMontiel/Tarea10/blob/master/ColaConPrioridad.ipynb\" target=\"_parent\"><img src=\"https://colab.research.google.com/assets/colab-badge.svg\" alt=\"Open In Colab\"/></a>"
      ]
    },
    {
      "cell_type": "code",
      "metadata": {
        "id": "FwjXL5EK5C6d"
      },
      "source": [
        "class PriorityQueue:\n",
        "  def __init__( self ):\n",
        "    self.data = [ ]\n",
        "    self.indice = 0\n",
        "\n",
        "  def is_empty( self ):\n",
        "    return len( self.data ) == 0\n",
        "\n",
        "  def length( self ):\n",
        "    return len( self.data )\n",
        "\n",
        "  def enqueue( self, value, priority ):\n",
        "    self.data.append( self.indice, priority, value ) \n",
        "    self.indice += 1\n",
        "\t\t\n",
        "    \n",
        "  def dequeue( self ):\n",
        "    return self.data.pop( 0 )\n",
        "    \n",
        "  def to_string( self ):\n",
        "    for elem in self.data:\n",
        "      print(f\" | { elem } | <-- \", end=\"\" )\n",
        "    print(\"\")\n",
        "\n"
      ],
      "execution_count": 1,
      "outputs": []
    },
    {
      "cell_type": "code",
      "metadata": {
        "colab": {
          "base_uri": "https://localhost:8080/",
          "height": 283
        },
        "id": "XDzI85CRMwx_",
        "outputId": "6acca59a-b601-4c18-f12b-5c50928eb57f"
      },
      "source": [
        "cola_prioridad = PriorityQueue()\n",
        "print(\"Esta vacio?\", cola_prioridad.is_empty() )\n",
        "print(\"Número de elementos: \", cola_prioridad.length() )\n",
        "\n",
        "print(\"---------------------------\")\n",
        "\n",
        "cola_prioridad.enqueue( 20 ) \n",
        "cola_prioridad.enqueue( 20 )\n",
        "cola_prioridad.enqueue( 30 )\n",
        "print(\"Esta vacio?\", cola_prioridad.is_empty() )\n",
        "print(\"Número de elementos: \", cola_prioridad.length() )\n",
        "\n",
        "print(\"---------------------------\")\n",
        "\n",
        "cola_prioridad.to_string()\n",
        "\n"
      ],
      "execution_count": 2,
      "outputs": [
        {
          "output_type": "stream",
          "name": "stdout",
          "text": [
            "Esta vacio? True\n",
            "Número de elementos:  0\n",
            "---------------------------\n"
          ]
        },
        {
          "output_type": "error",
          "ename": "TypeError",
          "evalue": "ignored",
          "traceback": [
            "\u001b[0;31m---------------------------------------------------------------------------\u001b[0m",
            "\u001b[0;31mTypeError\u001b[0m                                 Traceback (most recent call last)",
            "\u001b[0;32m<ipython-input-2-50e8c8afcc8f>\u001b[0m in \u001b[0;36m<module>\u001b[0;34m()\u001b[0m\n\u001b[1;32m      5\u001b[0m \u001b[0mprint\u001b[0m\u001b[0;34m(\u001b[0m\u001b[0;34m\"---------------------------\"\u001b[0m\u001b[0;34m)\u001b[0m\u001b[0;34m\u001b[0m\u001b[0;34m\u001b[0m\u001b[0m\n\u001b[1;32m      6\u001b[0m \u001b[0;34m\u001b[0m\u001b[0m\n\u001b[0;32m----> 7\u001b[0;31m \u001b[0mcola_prioridad\u001b[0m\u001b[0;34m.\u001b[0m\u001b[0menqueue\u001b[0m\u001b[0;34m(\u001b[0m \u001b[0;36m20\u001b[0m \u001b[0;34m)\u001b[0m\u001b[0;34m\u001b[0m\u001b[0;34m\u001b[0m\u001b[0m\n\u001b[0m\u001b[1;32m      8\u001b[0m \u001b[0mcola_prioridad\u001b[0m\u001b[0;34m.\u001b[0m\u001b[0menqueue\u001b[0m\u001b[0;34m(\u001b[0m \u001b[0;36m20\u001b[0m \u001b[0;34m)\u001b[0m\u001b[0;34m\u001b[0m\u001b[0;34m\u001b[0m\u001b[0m\n\u001b[1;32m      9\u001b[0m \u001b[0mcola_prioridad\u001b[0m\u001b[0;34m.\u001b[0m\u001b[0menqueue\u001b[0m\u001b[0;34m(\u001b[0m \u001b[0;36m30\u001b[0m \u001b[0;34m)\u001b[0m\u001b[0;34m\u001b[0m\u001b[0;34m\u001b[0m\u001b[0m\n",
            "\u001b[0;31mTypeError\u001b[0m: enqueue() missing 1 required positional argument: 'priority'"
          ]
        }
      ]
    }
  ]
}